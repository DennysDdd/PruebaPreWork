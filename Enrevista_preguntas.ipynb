{
  "nbformat": 4,
  "nbformat_minor": 0,
  "metadata": {
    "colab": {
      "name": "Enrevista_preguntas.ipynb",
      "provenance": [],
      "collapsed_sections": [],
      "authorship_tag": "ABX9TyP1OigIqwDrVKB82h/jcsMv",
      "include_colab_link": true
    },
    "kernelspec": {
      "name": "python3",
      "display_name": "Python 3"
    },
    "language_info": {
      "name": "python"
    }
  },
  "cells": [
    {
      "cell_type": "markdown",
      "metadata": {
        "id": "view-in-github",
        "colab_type": "text"
      },
      "source": [
        "<a href=\"https://colab.research.google.com/github/DennysDdd/PruebaPreWork/blob/master/Enrevista_preguntas.ipynb\" target=\"_parent\"><img src=\"https://colab.research.google.com/assets/colab-badge.svg\" alt=\"Open In Colab\"/></a>"
      ]
    },
    {
      "cell_type": "code",
      "execution_count": null,
      "metadata": {
        "colab": {
          "base_uri": "https://localhost:8080/"
        },
        "id": "xV5yAcY28Dud",
        "outputId": "507ffdd1-61a2-4d52-afc4-4c2e93d045e9"
      },
      "outputs": [
        {
          "output_type": "stream",
          "name": "stdout",
          "text": [
            "54321-\n"
          ]
        }
      ],
      "source": [
        "#Pregunta1\n",
        "\n",
        "def numero(num):\n",
        "  num = str(num)\n",
        "  num = num[::-1]\n",
        "  return num\n",
        "\n",
        "numero_revertir = numero(-12345)\n",
        "print(numero_revertir)"
      ]
    },
    {
      "cell_type": "code",
      "source": [
        "#Pregunta2\n",
        "def obtener_promedio(oracion):\n",
        "    # primero quitamos las puntuacioones [coma, punto coma y punto]\n",
        "    oracion = oracion.replace(',',\"\").replace(';',\"\").replace('.',\"\")\n",
        "    long_total = len(oracion)\n",
        "    #sub palabras\n",
        "    palabras = oracion.split()\n",
        "    promedio_long_palabra=0\n",
        "    #sumamos los promedios\n",
        "    lista_prom_palabras = []\n",
        "    for palabra in palabras:\n",
        "      lista_prom_palabras.append(len(palabra))\n",
        "    promedio_palabras = sum(lista_prom_palabras)/len(lista_prom_palabras)\n",
        "    return promedio_palabras\n",
        "\n",
        "promedio_ejemplo=obtener_promedio(\"hola mundo como estas, espero que todo este bien\")\n",
        "print(promedio_ejemplo)"
      ],
      "metadata": {
        "id": "CCUqu1ytBXfK",
        "colab": {
          "base_uri": "https://localhost:8080/"
        },
        "outputId": "4bf5bbe1-1ffe-48a2-be79-e68cd57f6fd2"
      },
      "execution_count": 10,
      "outputs": [
        {
          "output_type": "stream",
          "name": "stdout",
          "text": [
            "4.333333333333333\n"
          ]
        }
      ]
    },
    {
      "cell_type": "code",
      "source": [
        "# Pregunta3\n",
        "numero1 = \"11234\"\n",
        "numero2 = \"3456\"\n",
        "def alg_suma(numero1,numero2):\n",
        "  if len(numero1)>len(numero2):\n",
        "    diferencia = len(numero1)-len(numero2)\n",
        "    numero2 = (\"0\"*diferencia)+ numero2\n",
        "    lista_acum = []\n",
        "    for i in numero1:\n",
        "      numero_sumar1 = int(numero1[i])\n",
        "      numero_sumar2 = int(numero2[i])\n",
        "      suma_cada_num = numero_sumar1 + numero_sumar2\n",
        "      lista_acum.append(suma_cada_num)\n",
        "      return str(lista_acum)\n",
        "        \n",
        "  elif len(numero1)>len(numero2):\n",
        "    diferencia = len(numero2)-len(numero1)\n",
        "    numero1 = (\"0\"*diferencia)+ numero1\n",
        "    lista_acum = []\n",
        "    for i in numero2:\n",
        "      numero_sumar2 = int(numero2[i])\n",
        "      numero_sumar1 = int(numero1[i])\n",
        "      suma_cada_num = numero_sumar1 + numero_sumar2\n",
        "      lista_acum.append(suma_cada_num)\n",
        "      return str(lista_acum)\n",
        "\n",
        "  else:\n",
        "    lista_acum = []\n",
        "    for i in numero2:\n",
        "      numero_sumar2 = int(numero2[i])\n",
        "      numero_sumar1 = int(numero1[i])\n",
        "      suma_cada_num = numero_sumar1 + numero_sumar2\n",
        "      lista_acum.append(suma_cada_num)\n",
        "      return str(lista_acum)\n",
        "\n",
        "suma_numeros = alg_suma(numero1 ,numero2)\n",
        "print(suma_numeros)\n"
      ],
      "metadata": {
        "colab": {
          "base_uri": "https://localhost:8080/",
          "height": 339
        },
        "id": "Qbi6JgtmEJJB",
        "outputId": "ad3259be-1ec7-4037-c98b-3c66c56c3662"
      },
      "execution_count": null,
      "outputs": [
        {
          "output_type": "error",
          "ename": "TypeError",
          "evalue": "ignored",
          "traceback": [
            "\u001b[0;31m---------------------------------------------------------------------------\u001b[0m",
            "\u001b[0;31mTypeError\u001b[0m                                 Traceback (most recent call last)",
            "\u001b[0;32m<ipython-input-14-ef2ed9a908ce>\u001b[0m in \u001b[0;36m<module>\u001b[0;34m()\u001b[0m\n\u001b[1;32m     34\u001b[0m       \u001b[0;32mreturn\u001b[0m \u001b[0mstr\u001b[0m\u001b[0;34m(\u001b[0m\u001b[0mlista_acum\u001b[0m\u001b[0;34m)\u001b[0m\u001b[0;34m\u001b[0m\u001b[0;34m\u001b[0m\u001b[0m\n\u001b[1;32m     35\u001b[0m \u001b[0;34m\u001b[0m\u001b[0m\n\u001b[0;32m---> 36\u001b[0;31m \u001b[0msuma_numeros\u001b[0m \u001b[0;34m=\u001b[0m \u001b[0malg_suma\u001b[0m\u001b[0;34m(\u001b[0m\u001b[0mnumero1\u001b[0m \u001b[0;34m,\u001b[0m\u001b[0mnumero2\u001b[0m\u001b[0;34m)\u001b[0m\u001b[0;34m\u001b[0m\u001b[0;34m\u001b[0m\u001b[0m\n\u001b[0m\u001b[1;32m     37\u001b[0m \u001b[0mprint\u001b[0m\u001b[0;34m(\u001b[0m\u001b[0msuma_numeros\u001b[0m\u001b[0;34m)\u001b[0m\u001b[0;34m\u001b[0m\u001b[0;34m\u001b[0m\u001b[0m\n",
            "\u001b[0;32m<ipython-input-14-ef2ed9a908ce>\u001b[0m in \u001b[0;36malg_suma\u001b[0;34m(numero1, numero2)\u001b[0m\n\u001b[1;32m      8\u001b[0m     \u001b[0mlista_acum\u001b[0m \u001b[0;34m=\u001b[0m \u001b[0;34m[\u001b[0m\u001b[0;34m]\u001b[0m\u001b[0;34m\u001b[0m\u001b[0;34m\u001b[0m\u001b[0m\n\u001b[1;32m      9\u001b[0m     \u001b[0;32mfor\u001b[0m \u001b[0mi\u001b[0m \u001b[0;32min\u001b[0m \u001b[0mnumero1\u001b[0m\u001b[0;34m:\u001b[0m\u001b[0;34m\u001b[0m\u001b[0;34m\u001b[0m\u001b[0m\n\u001b[0;32m---> 10\u001b[0;31m       \u001b[0mnumero_sumar1\u001b[0m \u001b[0;34m=\u001b[0m \u001b[0mint\u001b[0m\u001b[0;34m(\u001b[0m\u001b[0mnumero1\u001b[0m\u001b[0;34m[\u001b[0m\u001b[0mi\u001b[0m\u001b[0;34m]\u001b[0m\u001b[0;34m)\u001b[0m\u001b[0;34m\u001b[0m\u001b[0;34m\u001b[0m\u001b[0m\n\u001b[0m\u001b[1;32m     11\u001b[0m       \u001b[0mnumero_sumar2\u001b[0m \u001b[0;34m=\u001b[0m \u001b[0mint\u001b[0m\u001b[0;34m(\u001b[0m\u001b[0mnumero2\u001b[0m\u001b[0;34m[\u001b[0m\u001b[0mi\u001b[0m\u001b[0;34m]\u001b[0m\u001b[0;34m)\u001b[0m\u001b[0;34m\u001b[0m\u001b[0;34m\u001b[0m\u001b[0m\n\u001b[1;32m     12\u001b[0m       \u001b[0msuma_cada_num\u001b[0m \u001b[0;34m=\u001b[0m \u001b[0mnumero_sumar1\u001b[0m \u001b[0;34m+\u001b[0m \u001b[0mnumero_sumar2\u001b[0m\u001b[0;34m\u001b[0m\u001b[0;34m\u001b[0m\u001b[0m\n",
            "\u001b[0;31mTypeError\u001b[0m: string indices must be integers"
          ]
        }
      ]
    },
    {
      "cell_type": "code",
      "source": [
        "# Pregunta4\n",
        "\n",
        "def busca_norepite(cadena):\n",
        "  lista_norepite= []\n",
        "  for i in cadena:\n",
        "    if i not in lista_norepite:\n",
        "      lista_norepite.append(i)\n",
        "  primero = cadena.find(lista_norepite[0])\n",
        "  return primero\n",
        "\n",
        "palabra = busca_norepite(\"algoritmia\")\n",
        "print(palabra)\n",
        "\n"
      ],
      "metadata": {
        "colab": {
          "base_uri": "https://localhost:8080/"
        },
        "id": "HKN0M7U6JE3I",
        "outputId": "a015c92b-6823-4881-cd7f-92a1d48a5177"
      },
      "execution_count": 4,
      "outputs": [
        {
          "output_type": "stream",
          "name": "stdout",
          "text": [
            "0\n"
          ]
        }
      ]
    },
    {
      "cell_type": "code",
      "source": [
        "# Pregunta5\n",
        "\n",
        "\n"
      ],
      "metadata": {
        "id": "WYny2mGkwzhf"
      },
      "execution_count": null,
      "outputs": []
    },
    {
      "cell_type": "code",
      "source": [
        "# Pregunta6\n",
        "\n",
        "def Matriz_monotona(A):\n",
        "  \n",
        "    return (all(A[i] <= A[i + 1] for i in range(len(A) - 1)) or all(A[i] >= A[i + 1] for i in range(len(A) - 1)))\n",
        "  \n",
        "matriz = [1, 2, 3, 1]\n",
        "print(Matriz_monotona(matriz))\n"
      ],
      "metadata": {
        "colab": {
          "base_uri": "https://localhost:8080/"
        },
        "id": "YYNUKC2cw2sC",
        "outputId": "6bdc85c5-44a8-4fd3-a01a-3ef165565392"
      },
      "execution_count": 13,
      "outputs": [
        {
          "output_type": "stream",
          "name": "stdout",
          "text": [
            "False\n"
          ]
        }
      ]
    },
    {
      "cell_type": "code",
      "source": [
        "# Pregunta7\n",
        "\n",
        "def reordenar(matriz):\n",
        "  acum = 0\n",
        "  for i in matriz:\n",
        "    if i:\n",
        "      matriz[acum] = i\n",
        "      acum += 1\n",
        "  for i in range(acum, len(matriz)):\n",
        "    matriz[i] = 0\n",
        "matriz = [1,2,0,6,9,5,0,5,4,0,0,45,7,9]\n",
        "reordenar(matriz)\n",
        "print(matriz)"
      ],
      "metadata": {
        "colab": {
          "base_uri": "https://localhost:8080/"
        },
        "id": "d_HU3CEWz8Uy",
        "outputId": "b6a7156a-a2d8-401f-91fd-733e52be041c"
      },
      "execution_count": 18,
      "outputs": [
        {
          "output_type": "stream",
          "name": "stdout",
          "text": [
            "[1, 2, 6, 9, 5, 5, 4, 45, 7, 9, 0, 0, 0, 0]\n"
          ]
        }
      ]
    },
    {
      "cell_type": "code",
      "source": [
        "# Pregunta8\n",
        "\n",
        "\n"
      ],
      "metadata": {
        "id": "LANbYwAq12YT"
      },
      "execution_count": null,
      "outputs": []
    },
    {
      "cell_type": "code",
      "source": [
        "# Pregunta 9\n",
        "\n",
        "def palabras_comunes(palabra1,palabra2):\n",
        "  palabras_oracion1 = palabra1.split(' ')\n",
        "  palabras_oracion2 = palabra2.split(' ')\n",
        "  comunes = []\n",
        "  no_comunes = []\n",
        "  for palabra in palabras_oracion1:\n",
        "    if palabra in palabras_oracion2:\n",
        "      comunes.append(palabra)\n",
        "    else:\n",
        "      no_comunes.append(palabra)\n",
        "  return [comunes, no_comunes]\n",
        "\n",
        "\n",
        "oracion1 = input(\"Oracion 1: \")\n",
        "oracion2 = input(\"Oracion 2: \")\n",
        "\n",
        "print(palabras_comunes(oracion1, oracion2))\n"
      ],
      "metadata": {
        "colab": {
          "base_uri": "https://localhost:8080/"
        },
        "id": "pfFGXlF-15fV",
        "outputId": "2079a220-dbee-4e0c-a7cd-eeb96de96c83"
      },
      "execution_count": 20,
      "outputs": [
        {
          "output_type": "stream",
          "name": "stdout",
          "text": [
            "Oracion 1Hola, como estas, espero todo bien\n",
            "Oracion 2Hola estas bien espero que si\n",
            "[['espero', 'bien'], ['Hola,', 'como', 'estas,', 'todo']]\n"
          ]
        }
      ]
    },
    {
      "cell_type": "code",
      "source": [
        "# Pregunta10:\n",
        "\n",
        "def intervalo_primos(num_menor, num_mayor):\n",
        "  lista_primos = []\n",
        "  for numeroo in range(num_menor, num_mayor + 1):\n",
        "    if numeroo > 1:\n",
        "        for i in range(2, numeroo):\n",
        "            if (numeroo % i) == 0:\n",
        "                break\n",
        "        else:\n",
        "            lista_primos.append(numeroo)\n",
        "  return lista_primos\n",
        "\n",
        "menor = int(input(\"Ingrese el numero menor: \"))\n",
        "mayor = int(input(\"Ingrese el numero mayor: \"))\n",
        "\n",
        "lista_numeros = intervalo_primos(menor, mayor)\n",
        "print(lista_numeros)"
      ],
      "metadata": {
        "colab": {
          "base_uri": "https://localhost:8080/"
        },
        "id": "6MGodii53_xf",
        "outputId": "9a73ff52-51f0-4832-c810-9ad7f3595634"
      },
      "execution_count": 23,
      "outputs": [
        {
          "output_type": "stream",
          "name": "stdout",
          "text": [
            "Ingrese el numero menor: 200\n",
            "Ingrese el numero mayor: 400\n",
            "[211, 223, 227, 229, 233, 239, 241, 251, 257, 263, 269, 271, 277, 281, 283, 293, 307, 311, 313, 317, 331, 337, 347, 349, 353, 359, 367, 373, 379, 383, 389, 397]\n"
          ]
        }
      ]
    }
  ]
}